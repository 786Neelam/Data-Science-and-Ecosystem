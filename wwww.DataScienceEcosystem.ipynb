{
  "metadata": {
    "kernelspec": {
      "name": "python",
      "display_name": "Python (Pyodide)",
      "language": "python"
    },
    "language_info": {
      "codemirror_mode": {
        "name": "python",
        "version": 3
      },
      "file_extension": ".py",
      "mimetype": "text/x-python",
      "name": "python",
      "nbconvert_exporter": "python",
      "pygments_lexer": "ipython3",
      "version": "3.8"
    }
  },
  "nbformat_minor": 4,
  "nbformat": 4,
  "cells": [
    {
      "cell_type": "markdown",
      "source": "# Data Science Tools and Ecosystem",
      "metadata": {}
    },
    {
      "cell_type": "markdown",
      "source": "In this notebook, Data Science Tools are Ecosystem are summarized.",
      "metadata": {}
    },
    {
      "cell_type": "markdown",
      "source": "Some of the popular languages that Data Scientists use are:",
      "metadata": {}
    },
    {
      "cell_type": "markdown",
      "source": "1. python.\n2. MATLAB.\n3. Scala.\n4. SQL.",
      "metadata": {}
    },
    {
      "cell_type": "markdown",
      "source": "Some of the commonly used libraries used by Data Scientists include:",
      "metadata": {}
    },
    {
      "cell_type": "markdown",
      "source": "1. NumPy.\n2. Matplotlib.\n3. Pandas.\n4. SciPy.",
      "metadata": {}
    },
    {
      "cell_type": "markdown",
      "source": "|Data Science Tools.|\n|-------------------|\n| Jupyter Notebook. |\n| RStudio.          |\n| Apache Zeppelin.  |\n| Spyder.           |\n",
      "metadata": {}
    },
    {
      "cell_type": "markdown",
      "source": "### Below are a few examples of evaluating arithmetic expressions in python.",
      "metadata": {}
    },
    {
      "cell_type": "code",
      "source": "# This is a simple arithmetic expression to multiply and then add integers.\n(3*4)+5",
      "metadata": {
        "trusted": true
      },
      "outputs": [
        {
          "execution_count": 22,
          "output_type": "execute_result",
          "data": {
            "text/plain": "17"
          },
          "metadata": {}
        }
      ],
      "execution_count": 22
    },
    {
      "cell_type": "markdown",
      "source": "# This will convert 200 minutes to hours by dividing by 60.\n200/60",
      "metadata": {}
    },
    {
      "cell_type": "markdown",
      "source": "****Objectives****",
      "metadata": {}
    },
    {
      "cell_type": "markdown",
      "source": "- List of popular languages of Data Science.\n- commonly used libraries in Data Science.\n- Data Science Tools.\n- Arithemetic expression in Python.\n- Convert minutes into hours by using Python expression.\n",
      "metadata": {}
    },
    {
      "cell_type": "markdown",
      "source": "## Author\nNeelam Ashfaq",
      "metadata": {}
    }
  ]
}